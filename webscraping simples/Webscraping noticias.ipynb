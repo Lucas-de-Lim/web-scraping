{
 "cells": [
  {
   "cell_type": "code",
   "execution_count": 19,
   "id": "56c5abe3",
   "metadata": {},
   "outputs": [],
   "source": [
    "import requests\n",
    "from bs4 import BeautifulSoup\n",
    "import re\n",
    "import pandas as pd\n",
    "import numpy as np"
   ]
  },
  {
   "cell_type": "markdown",
   "id": "32afc11d",
   "metadata": {},
   "source": [
    "## Os passos são o seguintes:"
   ]
  },
  {
   "cell_type": "markdown",
   "id": "a183eb08",
   "metadata": {},
   "source": [
    "1- Cria a requisição do conteúdo hmtl do site.\n",
    "\n",
    "2- Temos que nos passar por um browser para não correr o risco de barrar o scraping.\n",
    "\n",
    "3- Extraimos com o .text e salvamos numa variavel \"sopao_macarronico\".\n",
    "\n",
    "4- Jogamos no BeatifulSoup para estruturar o conteudo.\n",
    "\n",
    "5- Criamos uma lista dos h3 que nos interessam na \"lista_noticias\" e dos div que nos interessam no lista_datas (passando o atributo class específico).\n",
    "\n",
    "6- Com um laço for-zip iteramos as duas listas, nos elementos da lista_noticias pegamos o texto da tag a e jogamos na variavel \"chamada\" e nos elemntos da lista_datas só extraimos o texto mesmo e colocamos na variavel data_emsi, e dando apend para a lista_noticiario a cada iteração. É feito um tratamento da data_emsi para remover caracter indesejado.\n",
    "\n",
    "7- Por fim transformamos a lista_noticiario num data frame."
   ]
  },
  {
   "cell_type": "code",
   "execution_count": 41,
   "id": "3e65d0d6",
   "metadata": {},
   "outputs": [],
   "source": [
    "def buscador_noticias_ambientais(url):\n",
    "    cabecalho = {'user-agent': 'Mozilla/5.0'}\n",
    "\n",
    "    resposta = requests.get(url, headers = cabecalho)\n",
    "    sopao_macarronico = resposta.text\n",
    "    \n",
    "    sopa_bonita = BeautifulSoup(sopao_macarronico, 'html.parser')\n",
    "    \n",
    "    lista_noticias = sopa_bonita.find_all('h2', {'class':\"h4 mb-3\"})\n",
    "    lista_datas = sopa_bonita.find_all('div',  {'class': 'text-muted'})\n",
    "    \n",
    "    lista_noticiario = []\n",
    "   \n",
    "    for noticia,data in zip(lista_noticias, lista_datas):\n",
    "        \n",
    "        chamada = noticia.find('a').text\n",
    "\n",
    "        data_emsi = data.text\n",
    "        data_emsi = data_emsi.replace('\\n', '')\n",
    "\n",
    "        lista_noticiario.append((chamada, data_emsi))\n",
    "\n",
    "    df_noticiario = pd.DataFrame(lista_noticiario, columns=['chamada', 'data'])\n",
    "    \n",
    "\n",
    "    \n",
    "    return df_noticiario"
   ]
  },
  {
   "cell_type": "code",
   "execution_count": 42,
   "id": "907a3ba8",
   "metadata": {},
   "outputs": [
    {
     "data": {
      "text/html": [
       "<div>\n",
       "<style scoped>\n",
       "    .dataframe tbody tr th:only-of-type {\n",
       "        vertical-align: middle;\n",
       "    }\n",
       "\n",
       "    .dataframe tbody tr th {\n",
       "        vertical-align: top;\n",
       "    }\n",
       "\n",
       "    .dataframe thead th {\n",
       "        text-align: right;\n",
       "    }\n",
       "</style>\n",
       "<table border=\"1\" class=\"dataframe\">\n",
       "  <thead>\n",
       "    <tr style=\"text-align: right;\">\n",
       "      <th></th>\n",
       "      <th>chamada</th>\n",
       "      <th>data</th>\n",
       "    </tr>\n",
       "  </thead>\n",
       "  <tbody>\n",
       "    <tr>\n",
       "      <th>0</th>\n",
       "      <td>Brasil queimou área duas vezes maior que o Mat...</td>\n",
       "      <td>26 de abril de 2023</td>\n",
       "    </tr>\n",
       "    <tr>\n",
       "      <th>1</th>\n",
       "      <td>Amazônia já perdeu área equivalente a duas cid...</td>\n",
       "      <td>20 de abril de 2023</td>\n",
       "    </tr>\n",
       "    <tr>\n",
       "      <th>2</th>\n",
       "      <td>Fóssil brasileiro preenche lacuna na história ...</td>\n",
       "      <td>20 de abril de 2023</td>\n",
       "    </tr>\n",
       "    <tr>\n",
       "      <th>3</th>\n",
       "      <td>Almir Sater: “Grandes lavouras estão chegando ...</td>\n",
       "      <td>20 de abril de 2023</td>\n",
       "    </tr>\n",
       "    <tr>\n",
       "      <th>4</th>\n",
       "      <td>Brasil “perdeu tempo” ao não ratificar Acordo ...</td>\n",
       "      <td>19 de abril de 2023</td>\n",
       "    </tr>\n",
       "    <tr>\n",
       "      <th>5</th>\n",
       "      <td>Ibama multa influenciador que mantinha capivar...</td>\n",
       "      <td>19 de abril de 2023</td>\n",
       "    </tr>\n",
       "    <tr>\n",
       "      <th>6</th>\n",
       "      <td>Ibama apreende 55 pássaros na casa de Anderson...</td>\n",
       "      <td>18 de abril de 2023</td>\n",
       "    </tr>\n",
       "    <tr>\n",
       "      <th>7</th>\n",
       "      <td>Cerrado perdeu área maior do que a cidade de S...</td>\n",
       "      <td>14 de abril de 2023</td>\n",
       "    </tr>\n",
       "    <tr>\n",
       "      <th>8</th>\n",
       "      <td>Em 2022, bancos investiram U$673 bi na explora...</td>\n",
       "      <td>13 de abril de 2023</td>\n",
       "    </tr>\n",
       "    <tr>\n",
       "      <th>9</th>\n",
       "      <td>Deputados de Rondônia instalam CPI para invest...</td>\n",
       "      <td>13 de abril de 2023</td>\n",
       "    </tr>\n",
       "  </tbody>\n",
       "</table>\n",
       "</div>"
      ],
      "text/plain": [
       "                                             chamada                  data\n",
       "0  Brasil queimou área duas vezes maior que o Mat...  26 de abril de 2023 \n",
       "1  Amazônia já perdeu área equivalente a duas cid...  20 de abril de 2023 \n",
       "2  Fóssil brasileiro preenche lacuna na história ...  20 de abril de 2023 \n",
       "3  Almir Sater: “Grandes lavouras estão chegando ...  20 de abril de 2023 \n",
       "4  Brasil “perdeu tempo” ao não ratificar Acordo ...  19 de abril de 2023 \n",
       "5  Ibama multa influenciador que mantinha capivar...  19 de abril de 2023 \n",
       "6  Ibama apreende 55 pássaros na casa de Anderson...  18 de abril de 2023 \n",
       "7  Cerrado perdeu área maior do que a cidade de S...  14 de abril de 2023 \n",
       "8  Em 2022, bancos investiram U$673 bi na explora...  13 de abril de 2023 \n",
       "9  Deputados de Rondônia instalam CPI para invest...  13 de abril de 2023 "
      ]
     },
     "execution_count": 42,
     "metadata": {},
     "output_type": "execute_result"
    }
   ],
   "source": [
    "buscador_noticias_ambientais('https://oeco.org.br/category/noticias/')"
   ]
  },
  {
   "cell_type": "code",
   "execution_count": null,
   "id": "54dbb186",
   "metadata": {},
   "outputs": [],
   "source": []
  }
 ],
 "metadata": {
  "kernelspec": {
   "display_name": "Python 3 (ipykernel)",
   "language": "python",
   "name": "python3"
  },
  "language_info": {
   "codemirror_mode": {
    "name": "ipython",
    "version": 3
   },
   "file_extension": ".py",
   "mimetype": "text/x-python",
   "name": "python",
   "nbconvert_exporter": "python",
   "pygments_lexer": "ipython3",
   "version": "3.9.13"
  }
 },
 "nbformat": 4,
 "nbformat_minor": 5
}
